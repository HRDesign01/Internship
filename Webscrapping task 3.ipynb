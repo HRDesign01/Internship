{
 "cells": [
  {
   "cell_type": "code",
   "execution_count": 4,
   "id": "0f1599a7",
   "metadata": {},
   "outputs": [],
   "source": [
    "import selenium\n",
    "import pandas as pd\n",
    "from selenium import webdriver\n",
    "import warnings\n",
    "warnings.filterwarnings('ignore')\n",
    "from selenium.webdriver.common.by import By\n",
    "import requests\n",
    "import time\n",
    "from selenium.common.exceptions import NoSuchElementException"
   ]
  },
  {
   "cell_type": "markdown",
   "id": "21821b82",
   "metadata": {},
   "source": [
    "QUESTION 1"
   ]
  },
  {
   "cell_type": "code",
   "execution_count": 5,
   "id": "defce10e",
   "metadata": {},
   "outputs": [],
   "source": [
    "driver=webdriver.Chrome()"
   ]
  },
  {
   "cell_type": "code",
   "execution_count": 6,
   "id": "93060a1c",
   "metadata": {},
   "outputs": [
    {
     "name": "stdout",
     "output_type": "stream",
     "text": [
      "enter your item:guitar\n"
     ]
    }
   ],
   "source": [
    "Val=input(\"enter your item:\")"
   ]
  },
  {
   "cell_type": "markdown",
   "id": "8bdeb626",
   "metadata": {},
   "source": [
    "QUESTION 2"
   ]
  },
  {
   "cell_type": "code",
   "execution_count": 7,
   "id": "6b660c87",
   "metadata": {},
   "outputs": [],
   "source": [
    "driver.get(\"http://www.amazon.in/\")"
   ]
  },
  {
   "cell_type": "code",
   "execution_count": 8,
   "id": "eb6a8de8",
   "metadata": {},
   "outputs": [],
   "source": [
    "speaker_tags=driver.find_element(By.XPATH, \"//div[@class='nav-search-field ']//input\")\n",
    "speaker_tags.send_keys('guitar')\n",
    "search=driver.find_element(By.XPATH, \"//div[@class='nav-search-submit nav-sprite']//span\")\n",
    "search.click()\n",
    "time.sleep(3)"
   ]
  },
  {
   "cell_type": "code",
   "execution_count": 11,
   "id": "2c4509dc",
   "metadata": {},
   "outputs": [],
   "source": [
    "Product_URL=[]\n",
    "start=0\n",
    "end=3\n",
    "for page in range(start,end):\n",
    "    url=driver.find_elements(By.XPATH,'//a[@class=\"a-link-normal s-no-outline\"]')\n",
    "    for i in url:\n",
    "        Product_URL.append(i.get_attribute(\"href\"))\n",
    "    nxt_button=driver.find_element(By.XPATH, '//a[@class=\"s-pagination-item s-pagination-next s-pagination-button s-pagination-separator\"]')\n",
    "    nxt_button.click()\n",
    "    time.sleep(2)"
   ]
  },
  {
   "cell_type": "code",
   "execution_count": 12,
   "id": "6c762441",
   "metadata": {},
   "outputs": [
    {
     "data": {
      "text/plain": [
       "186"
      ]
     },
     "execution_count": 12,
     "metadata": {},
     "output_type": "execute_result"
    }
   ],
   "source": [
    "len(Product_URL)"
   ]
  },
  {
   "cell_type": "code",
   "execution_count": null,
   "id": "bbfa31b5",
   "metadata": {},
   "outputs": [],
   "source": [
    "for url in Product_URL:\n",
    "    driver.get(url)\n",
    "    time.sleep(2)\n",
    "    \n",
    "    try:\n",
    "        Brand=driver.find_element(By.XPATH,'//div[@class=\"a-section a-spacing-none a-spacing-top-small s-title-instructions-style\"]')\n",
    "        brand.append(Brand.text)\n",
    "    except NoSuchElementException:\n",
    "        brand.append('-')\n",
    "    try:\n",
    "        Price=driver.find_element(By.XPATH,'//span[@class=\"a-price-whole\"]')\n",
    "        price.append(Price.text)\n",
    "    except NoSuchElementException:\n",
    "        price.append('-')\n",
    "    try:\n",
    "        Availability=driver.find_element(By.XPATH,'//span[@class=\"a-size-medium a-color-success\"]')\n",
    "        availability.append(Availability.text)\n",
    "    except NoSuchElementException:\n",
    "        availability.append('-')\n",
    "    try:\n",
    "        Availability=driver.find_element(By.XPATH,'//span[@class=\"a-size-medium a-color-success\"]')\n",
    "        availability.append(Availability.text)\n",
    "    except NoSuchElementException:\n",
    "        availability.append('-')\n",
    "        "
   ]
  },
  {
   "cell_type": "code",
   "execution_count": 5,
   "id": "a354d9d3",
   "metadata": {},
   "outputs": [],
   "source": [
    "Brand_name=[]\n",
    "Product_name=[]\n",
    "Price=[]\n",
    "Return_details=[]\n",
    "Expected_delivery=[]\n",
    "Product_availabilty=[]"
   ]
  },
  {
   "cell_type": "code",
   "execution_count": null,
   "id": "1df41665",
   "metadata": {},
   "outputs": [],
   "source": [
    "start=0\n",
    "end=3\n",
    "for page in range(start,end):\n",
    "    Brand=driver.find_elements(By.XPATH,'')"
   ]
  }
 ],
 "metadata": {
  "kernelspec": {
   "display_name": "Python 3 (ipykernel)",
   "language": "python",
   "name": "python3"
  },
  "language_info": {
   "codemirror_mode": {
    "name": "ipython",
    "version": 3
   },
   "file_extension": ".py",
   "mimetype": "text/x-python",
   "name": "python",
   "nbconvert_exporter": "python",
   "pygments_lexer": "ipython3",
   "version": "3.10.9"
  }
 },
 "nbformat": 4,
 "nbformat_minor": 5
}
